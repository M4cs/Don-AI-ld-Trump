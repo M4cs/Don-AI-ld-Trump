{
  "nbformat": 4,
  "nbformat_minor": 0,
  "metadata": {
    "colab": {
      "name": "gptTweet.ipynb",
      "provenance": [],
      "private_outputs": true,
      "collapsed_sections": [],
      "toc_visible": true,
      "authorship_tag": "ABX9TyNRYIRzQOjDGmsE6UbjPAsX",
      "include_colab_link": true
    },
    "kernelspec": {
      "name": "python3",
      "display_name": "Python 3"
    },
    "accelerator": "GPU"
  },
  "cells": [
    {
      "cell_type": "markdown",
      "metadata": {
        "id": "view-in-github",
        "colab_type": "text"
      },
      "source": [
        "<a href=\"https://colab.research.google.com/github/M4cs/Don-AI-ld-Trump/blob/master/gp2-simple.ipynb\" target=\"_parent\"><img src=\"https://colab.research.google.com/assets/colab-badge.svg\" alt=\"Open In Colab\"/></a>"
      ]
    },
    {
      "cell_type": "markdown",
      "metadata": {
        "id": "KvdrUEeOMJnr",
        "colab_type": "text"
      },
      "source": [
        "## Generating Tweets from Other Tweets Using GPT-2"
      ]
    },
    {
      "cell_type": "markdown",
      "metadata": {
        "id": "Uv9GOoWrMUFH",
        "colab_type": "text"
      },
      "source": [
        "Set TF version and import gpt2"
      ]
    },
    {
      "cell_type": "code",
      "metadata": {
        "id": "XIGJIb0fKmKy",
        "colab_type": "code",
        "colab": {}
      },
      "source": [
        "%tensorflow_version 1.x\n",
        "!pip install -q gpt-2-simple\n",
        "import gpt_2_simple as gpt2"
      ],
      "execution_count": 0,
      "outputs": []
    },
    {
      "cell_type": "markdown",
      "metadata": {
        "id": "lQKkyofFMjRG",
        "colab_type": "text"
      },
      "source": [
        "Mount Google Drive to Save/Load Models and Datasets"
      ]
    },
    {
      "cell_type": "code",
      "metadata": {
        "id": "6rfY0haQMl29",
        "colab_type": "code",
        "colab": {}
      },
      "source": [
        "gpt2.mount_gdrive()"
      ],
      "execution_count": 0,
      "outputs": []
    },
    {
      "cell_type": "markdown",
      "metadata": {
        "id": "W4Jwj5NGM1F6",
        "colab_type": "text"
      },
      "source": [
        "Set Datset Name\n"
      ]
    },
    {
      "cell_type": "code",
      "metadata": {
        "id": "QZ4JRCsLM3CO",
        "colab_type": "code",
        "colab": {}
      },
      "source": [
        "run_name = \"trump_tweets.txt\""
      ],
      "execution_count": 0,
      "outputs": []
    },
    {
      "cell_type": "markdown",
      "metadata": {
        "id": "iXSjjNdFM-v2",
        "colab_type": "text"
      },
      "source": [
        "Download Intial Model (Only needed if training new model)"
      ]
    },
    {
      "cell_type": "code",
      "metadata": {
        "id": "fe0lhSciNF8h",
        "colab_type": "code",
        "colab": {}
      },
      "source": [
        "# Medium Model\n",
        "# gpt2.download_gpt2(model_name='355M')\n",
        "\n",
        "# Smaller Model\n",
        "gpt2.download_gpt2(model_name='124M')"
      ],
      "execution_count": 0,
      "outputs": []
    },
    {
      "cell_type": "markdown",
      "metadata": {
        "id": "5-bp6DVMNYen",
        "colab_type": "text"
      },
      "source": [
        "Upload csv file to gdrive so we can import it here"
      ]
    },
    {
      "cell_type": "code",
      "metadata": {
        "id": "-FWikXsbNbTn",
        "colab_type": "code",
        "colab": {}
      },
      "source": [
        "gpt2.copy_file_from_gdrive(run_name)"
      ],
      "execution_count": 0,
      "outputs": []
    },
    {
      "cell_type": "code",
      "metadata": {
        "id": "NMEKC5CpQgY2",
        "colab_type": "code",
        "colab": {}
      },
      "source": [
        "sess = gpt2.start_tf_sess()\n",
        "gpt2.finetune(\n",
        "    sess,\n",
        "    run_name,\n",
        "    steps=-1,\n",
        "    model_name='124M',\n",
        "    run_name='run_name',\n",
        "    restore_from='fresh',\n",
        "    sample_every=20,\n",
        "    sample_length=160,\n",
        "    learning_rate=0.001,\n",
        "    save_every=200\n",
        ")"
      ],
      "execution_count": 0,
      "outputs": []
    },
    {
      "cell_type": "markdown",
      "metadata": {
        "id": "wT-dqHYxkrin",
        "colab_type": "text"
      },
      "source": [
        "Save your model to GDrive"
      ]
    },
    {
      "cell_type": "code",
      "metadata": {
        "id": "miEIVsDxkpIt",
        "colab_type": "code",
        "colab": {}
      },
      "source": [
        "gpt2.copy_checkpoint_to_gdrive(run_name='run1')"
      ],
      "execution_count": 0,
      "outputs": []
    }
  ]
}